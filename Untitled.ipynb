{
 "cells": [
  {
   "cell_type": "code",
   "execution_count": 1,
   "id": "d2a47249-e63e-4290-8a95-88386d6719df",
   "metadata": {},
   "outputs": [],
   "source": [
    "import gensim\n",
    "from gensim.models import KeyedVectors\n",
    "import jieba\n",
    "path = r'/Users/mrwang/Downloads/wordvectors_720.wordvectors'\n",
    "wv = KeyedVectors.load(path)"
   ]
  },
  {
   "cell_type": "code",
   "execution_count": 21,
   "id": "9d4b26f3-42dd-4979-be49-07ca0e5ccb46",
   "metadata": {},
   "outputs": [
    {
     "data": {
      "text/plain": [
       "0.30653644"
      ]
     },
     "execution_count": 21,
     "metadata": {},
     "output_type": "execute_result"
    }
   ],
   "source": [
    "\n",
    "str1 = '永昌甘北市场'\n",
    "str2 = '灵石路1669弄18号楼'\n",
    "\n",
    "str1 = list(jieba.cut(str1))\n",
    "str2 = list(jieba.cut(str2))\n",
    "\n",
    "wv.n_similarity(str1,str2)\n"
   ]
  },
  {
   "cell_type": "code",
   "execution_count": 3,
   "id": "a40383cb-31e6-4a50-ba41-05374f03f88d",
   "metadata": {},
   "outputs": [],
   "source": []
  },
  {
   "cell_type": "code",
   "execution_count": 5,
   "id": "ac9a7c95-c8cd-4a49-b18a-2c6c467afa23",
   "metadata": {},
   "outputs": [
    {
     "name": "stdout",
     "output_type": "stream",
     "text": [
      "<class 'gensim.models.keyedvectors.Word2VecKeyedVectors'>\n"
     ]
    }
   ],
   "source": [
    "print(type(wv))"
   ]
  },
  {
   "cell_type": "code",
   "execution_count": 18,
   "id": "409c3186-3961-4b9f-ac5c-c75c04a5a308",
   "metadata": {},
   "outputs": [],
   "source": []
  },
  {
   "cell_type": "code",
   "execution_count": 19,
   "id": "b8caaae9-206e-439d-96c8-8429a18a17a5",
   "metadata": {},
   "outputs": [
    {
     "data": {
      "text/plain": [
       "0.74978364"
      ]
     },
     "execution_count": 19,
     "metadata": {},
     "output_type": "execute_result"
    }
   ],
   "source": []
  },
  {
   "cell_type": "code",
   "execution_count": null,
   "id": "e4d63054-5e4d-4c08-a0c7-de973bda4440",
   "metadata": {},
   "outputs": [],
   "source": []
  }
 ],
 "metadata": {
  "kernelspec": {
   "display_name": "Python 3",
   "language": "python",
   "name": "python3"
  },
  "language_info": {
   "codemirror_mode": {
    "name": "ipython",
    "version": 3
   },
   "file_extension": ".py",
   "mimetype": "text/x-python",
   "name": "python",
   "nbconvert_exporter": "python",
   "pygments_lexer": "ipython3",
   "version": "3.8.8"
  }
 },
 "nbformat": 4,
 "nbformat_minor": 5
}
