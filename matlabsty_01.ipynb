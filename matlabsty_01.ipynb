{
 "cells": [
  {
   "cell_type": "code",
   "execution_count": null,
   "id": "18630743-af38-4635-9c68-a1bff71e4e00",
   "metadata": {},
   "outputs": [],
   "source": [
    "matplotlib有三个层次的API：\n",
    "matplotlib.backend_bases.FigureCanvas：代表了一个绘图区，在这个绘图区上图表被绘制\n",
    "matplotlib.backend_bases.Renderer：代表了渲染器，它知道如何在绘图区上绘图。\n",
    "matplotlib.artist.Artist：代表了图表组件，它知道如何利用渲染器在绘图区上绘图。\n",
    "\n",
    "\n",
    "matplotlib中有两种Artist：\n",
    "primitive：代表了我们在绘图区域上绘制的基础的绘图组件，比如Line2D，Rectangle，Text 以及AxesImage等等。\n",
    "container：代表了放置primitive的那些绘图组件。比如Axis、Axes以及Figure，如\n",
    "\n",
    "matplotlib的标准使用流程为：\n",
    "创建一个Figure实例对象fig\n",
    "使用fig实例创建一个或者多个Axes实例，或者创建一个或者多个Subplot实例\n",
    "使用Axes实例的方法来创建primitive\n",
    "\n",
    "container Artist:\n",
    "       Figure\n",
    "matplotlib.figure.Figure是最顶层的container Artist，它包含了图表中的所有元素\n",
    "Figure.patch属性：Figure的背景矩形\n",
    "Figure.axes属性：持有的一个Axes实例的列表（包括Subplot)\n",
    "Figure.images属性：持有的一个FigureImages patch列表\n",
    "Figure.lines属性：持有一个Line2D实例的列表（很少使用）\n",
    "Figure.legends属性：持有的一个Figure Legend实例列表（不同于Axes.legends)\n",
    "Figure.patches属性：持有的一个Figure pathes实例列表（很少使用)\n",
    "Figure.texts属性：持有的Figure Text实例列表\n",
    "\n",
    "当你执行Figure.add_subplot()或者Figure.add_axes()时，这些新建的Axes都被添加到Figure.axes列表中。\n",
    "\n",
    "由于Figure维持了current axes，因此你不应该手动的从Figure.axes列表中添加删除元素，而是要通过Figure.add_subplot()、Figure.add_axes()来添加元素，通过Figure.delaxes()来删除元素。但是你可以迭代或者访问Figure.axes中的Axes，然后修改这个Axes的属性。\n",
    "\n",
    "可以通过Figure.gca()获取current axes，通过Figure.sca()设置current axes。\n",
    "\n",
    "Figure也有它自己的text、line、patch、image。你可以直接通过add primitive语句直接添加。但是注意Figure默认的坐标系是以像素为单位，你可能需要转换成figure坐标系：(0,0)表示左下点，(1,1)表示右上点。\n",
    "\n",
    "\n"
   ]
  },
  {
   "cell_type": "code",
   "execution_count": null,
   "id": "acb3a51c-bb33-41bb-8d80-23c006f25a48",
   "metadata": {},
   "outputs": [],
   "source": [
    "Axes用于创建primitive Artist以及添加他们到相应的container中的方法：\n",
    "\n",
    "ax.annotate()：创建text annotation（Annotate对象），然后添加到ax.texts列表中。\n",
    "ax.bar()：创建bar chart（Rectangle对象），然后添加到ax.patches列表中。\n",
    "ax.errorbar()：创建error bar plot（Line2D对象和Rectangle对象），然后添加到ax.lines\n",
    "列表中和ax.patches列表中。\n",
    "ax.fill()：创建shared area（Polygon对象），然后添加到ax.patches列表中\n",
    "ax.hist()：创建histogram（Rectangle对象），然后添加到ax.patches列表中。\n",
    "ax.imshow()：创建image data（AxesImage对象），然后添加到ax.images列表中。\n",
    "ax.legend()：创建axes legends（Legend对象），然后添加到ax.legends列表中。\n",
    "ax.plot()：创建xy plot（Line2D对象），然后添加到ax.lines列表中。\n",
    "ax.scatter()：创建scatter charts（PolygonCollection对象），然后添加到\n",
    "ax.collections列表中。\n",
    "ax.text()：创建text（Text对象），然后添加到ax.texts列表中。\n",
    "\n",
    "Axes还包含两个最重要的Artist container：\n",
    "\n",
    "ax.xaxis：XAxis对象的实例，用于处理x轴tick以及label的绘制\n",
    "ax.yaxis：YAxis对象的实例，用于处理y轴tick以及label的绘制\n",
    "\n",
    "\n",
    "Axes 的一些方法:\n",
    "corr(x, **kwargs)：绘制序列x的自相关。\n",
    "\n",
    "x：一个标量序列。对x执行自相关\n",
    "normed：一个布尔值，如果为True，则对数据正则化处理\n",
    "maxlags：一个整数，默认为10.它给出了要展示多少个lag。如果为None，则使用所有的2*len(x)-1个\n",
    "其他kwargs：控制了Line2D的属性\n",
    "\n",
    "\n",
    "add_artist(a)：添加a（一个Artist对象）到axes上\n",
    "\n",
    "add_collection(collection, autolim=True)：添加Collection实例到axes上\n",
    "\n",
    "add_container(container)：添加Container实例到axes上\n",
    "\n",
    "add_image(image)：添加Image实例到axes上\n",
    "\n",
    "add_line(line)：添加Line2D实例到axes上\n",
    "\n",
    "add_patch(p)：添加Patch实例到axes上\n",
    "\n",
    "add_table(tab)：添加Table实例到axes上\n",
    "\n",
    "annotate(*args, **kwargs)：对坐标点(x,y)绘制注解。"
   ]
  },
  {
   "cell_type": "code",
   "execution_count": 1,
   "id": "f5911b7e-a711-4b5e-8bea-89e6295ad3a5",
   "metadata": {},
   "outputs": [],
   "source": [
    "import matplotlib as mp\n",
    "import numpy as np\n",
    "import matplotlib.pyplot as plt "
   ]
  },
  {
   "cell_type": "code",
   "execution_count": null,
   "id": "b9b2d385-74bb-4e45-8969-941f88ca8def",
   "metadata": {},
   "outputs": [],
   "source": [
    "import matplotlib as mp\n",
    "print(mp.rcParams). # 默认配置，可以根据需要进行修改\n",
    "matplotlib.rcdefaults() #将所有配置重置为标准设置"
   ]
  },
  {
   "cell_type": "code",
   "execution_count": null,
   "id": "3dc1c8e5-e8b2-4e94-92b1-9fedaeb58fee",
   "metadata": {},
   "outputs": [],
   "source": [
    "import matplotlib.pyplot as plt \n",
    "fig = plt.figure()  # 创建图形\n",
    "fig.patch  # 图表矩形\n",
    "ax = fig.add_axes([0,0,2,1]) # AXes矩形 可以调节上下左右宽度\n",
    "mp.artist.getp(fig) # 获取所以属性"
   ]
  },
  {
   "cell_type": "code",
   "execution_count": 16,
   "id": "49d46a2d-ba95-4251-b7bc-cdfd347503cd",
   "metadata": {},
   "outputs": [
    {
     "data": {
      "text/plain": [
       "<AxesSubplot:>"
      ]
     },
     "execution_count": 16,
     "metadata": {},
     "output_type": "execute_result"
    },
    {
     "data": {
      "image/png": "[encoded data removed]",
      "text/plain": [
       "<Figure size 432x288 with 2 Axes>"
      ]
     },
     "metadata": {
      "needs_background": "light"
     },
     "output_type": "display_data"
    }
   ],
   "source": [
    "fig = plt.figure()  # 创建图形\n",
    "fig.patch  # 图表矩形\n",
    "ax = fig.add_axes([0,0,1,1]) # AXes矩形 可以调节上下左右宽度\n",
    "ax2 = fig.add_subplot(223)\n",
    "fig.axes\n",
    "fig.patch\n",
    "fig.legends\n",
    "fig.lines\n",
    "fig.patches\n",
    "fig.texts\n",
    "fig.gca()"
   ]
  },
  {
   "cell_type": "code",
   "execution_count": 26,
   "id": "d83539f5-0705-4ef4-8bd1-31b171cbc38f",
   "metadata": {},
   "outputs": [
    {
     "name": "stdout",
     "output_type": "stream",
     "text": [
      "<class 'matplotlib.axes._axes.Axes'>\n"
     ]
    },
    {
     "data": {
      "image/png": "[encoded data removed]",
      "text/plain": [
       "<Figure size 432x288 with 2 Axes>"
      ]
     },
     "metadata": {
      "needs_background": "light"
     },
     "output_type": "display_data"
    }
   ],
   "source": [
    "import numpy as np\n",
    "fig = plt.figure()\n",
    "ax  = fig.add_axes([0.15,0.1,0.7,0.3])\n",
    "print(type(ax))\n",
    "t= np.arange(0.0,1.0,0.01)\n",
    "s = np.sin(2*np.pi*t)\n",
    "ax2 = fig.add_subplot(221)\n",
    "rect = ax.patch # axex 的rectangle\n",
    "rect.set_color('green') #设置背景颜色\n",
    "line, = ax.plot(t,s,color='blue',lw=2)"
   ]
  },
  {
   "cell_type": "code",
   "execution_count": 36,
   "id": "f8f17846-eea3-4bbe-8ab9-f18eed9ab1da",
   "metadata": {},
   "outputs": [
    {
     "name": "stdout",
     "output_type": "stream",
     "text": [
      "[  4.   7.  24.  21.  44.  53.  76. 109. 113. 121. 120. 100.  83.  54.\n",
      "  32.  19.   8.   7.   2.   3.]\n",
      "[-2.9125516  -2.60392249 -2.29529339 -1.98666428 -1.67803517 -1.36940606\n",
      " -1.06077695 -0.75214784 -0.44351873 -0.13488962  0.17373949  0.4823686\n",
      "  0.79099771  1.09962682  1.40825593  1.71688504  2.02551415  2.33414325\n",
      "  2.64277236  2.95140147  3.26003058]\n",
      "<BarContainer object of 20 artists>\n",
      "[<matplotlib.patches.Rectangle object at 0x7fdfa15fdb50>, <matplotlib.patches.Rectangle object at 0x7fdf9158a2b0>, <matplotlib.patches.Rectangle object at 0x7fdfa15fdf40>, <matplotlib.patches.Rectangle object at 0x7fdfa160c250>, <matplotlib.patches.Rectangle object at 0x7fdfa160c520>, <matplotlib.patches.Rectangle object at 0x7fdfa160c7f0>, <matplotlib.patches.Rectangle object at 0x7fdfa160cac0>, <matplotlib.patches.Rectangle object at 0x7fdfa160cd90>, <matplotlib.patches.Rectangle object at 0x7fdfa161a0a0>, <matplotlib.patches.Rectangle object at 0x7fdfa161a370>, <matplotlib.patches.Rectangle object at 0x7fdfa161a640>, <matplotlib.patches.Rectangle object at 0x7fdfa161a910>, <matplotlib.patches.Rectangle object at 0x7fdfa161abe0>, <matplotlib.patches.Rectangle object at 0x7fdfa161aeb0>, <matplotlib.patches.Rectangle object at 0x7fdfa162a1c0>, <matplotlib.patches.Rectangle object at 0x7fdfa162a490>, <matplotlib.patches.Rectangle object at 0x7fdfa162a760>, <matplotlib.patches.Rectangle object at 0x7fdfa162aa30>, <matplotlib.patches.Rectangle object at 0x7fdfa162ad00>, <matplotlib.patches.Rectangle object at 0x7fdfa162afd0>]\n"
     ]
    },
    {
     "name": "stderr",
     "output_type": "stream",
     "text": [
      "<ipython-input-36-bd50c855d8d7>:10: UserWarning: Matplotlib is currently using module://ipykernel.pylab.backend_inline, which is a non-GUI backend, so cannot show the figure.\n",
      "  fig.show()\n"
     ]
    },
    {
     "data": {
      "image/png": "[encoded data removed]",
      "text/plain": [
       "<Figure size 432x288 with 1 Axes>"
      ]
     },
     "metadata": {
      "needs_background": "light"
     },
     "output_type": "display_data"
    }
   ],
   "source": [
    "fig = plt.figure()\n",
    "ax = fig.add_subplot(111)\n",
    "x, y = np.random.rand(2,100)\n",
    "line ,  = ax.plot(x,y,'-',color='red',linewidth=2)\n",
    "n, bins, rectangle = ax.hist(np.random.randn(1000),20,facecolor='yellow')\n",
    "print(n)\n",
    "print(bins)\n",
    "print(rectangle)\n",
    "print(ax.patches)\n",
    "fig.show()"
   ]
  },
  {
   "cell_type": "code",
   "execution_count": 53,
   "id": "3e7ac8f9-7435-4034-9021-41d8ca68a252",
   "metadata": {},
   "outputs": [
    {
     "data": {
      "text/plain": [
       "<matplotlib.lines.Line2D at 0x7fdf914b56a0>"
      ]
     },
     "execution_count": 53,
     "metadata": {},
     "output_type": "execute_result"
    },
    {
     "data": {
      "image/png": "[encoded data removed]",
      "text/plain": [
       "<Figure size 432x288 with 2 Axes>"
      ]
     },
     "metadata": {
      "needs_background": "light"
     },
     "output_type": "display_data"
    }
   ],
   "source": [
    "x , y = np.random.randn(2,100)\n",
    "fig = plt.figure()\n",
    "ax1 = fig.add_subplot(211)\n",
    "ax1.acorr(x,usevlines=True,maxlags = 50,normed=False,lw=2) # 序列模型\n",
    "ax1.grid(True)\n",
    "ax1.axhline(0,color='black',lw =2)\n",
    "\n",
    "ax2 = fig.add_subplot(212,sharex= ax1)\n",
    "ax2.acorr(x,usevlines=False,maxlags = 50,normed=True,lw=2,color='red') # 序列模型\n",
    "ax2.grid(True)\n",
    "ax1.axhline(0,color='black',lw =2)"
   ]
  },
  {
   "cell_type": "code",
   "execution_count": 66,
   "id": "40830ceb-87e7-4078-958d-3f9cb3c13323",
   "metadata": {},
   "outputs": [
    {
     "name": "stderr",
     "output_type": "stream",
     "text": [
      "<ipython-input-66-015f43173270>:24: UserWarning: Matplotlib is currently using module://ipykernel.pylab.backend_inline, which is a non-GUI backend, so cannot show the figure.\n",
      "  fig.show()\n"
     ]
    },
    {
     "data": {
      "image/png": "[encoded data removed]",
      "text/plain": [
       "<Figure size 432x288 with 5 Axes>"
      ]
     },
     "metadata": {
      "needs_background": "light"
     },
     "output_type": "display_data"
    }
   ],
   "source": [
    "# axhline(y=0, xmin=0, xmax=1, **kwargs)：绘制水平线\n",
    "# 画横线\n",
    "fig = plt.figure()\n",
    "ax = fig.add_axes([0,0,1,1]) \n",
    "ax = fig.add_subplot(411)\n",
    "ax.axhline(y=0.5,xmin=0.5,xmax=1.5 ,lw=1,color='red')\n",
    "ax.set_xlim(-1,2)\n",
    "ax.set_ylim(-1,2)\n",
    "# 横 画一个区域\n",
    "ax2 = fig.add_subplot(412)\n",
    "ax2.axhspan(ymin=0,ymax=0.5,xmin=0.5,xmax=1.5 ,lw=1,edgecolor='red')\n",
    "ax2.set_xlim(-1,2)\n",
    "ax2.set_ylim(-1,2)\n",
    "# 垂直 一个线\n",
    "ax3 = fig.add_subplot(413)\n",
    "ax3.axvline(x=0.5,ymin=0.5,ymax=1.5 ,lw=3,color='red')\n",
    "ax3.set_xlim(-1,2)\n",
    "ax3.set_ylim(-1,2)\n",
    "# 垂直一个区域\n",
    "ax4 = fig.add_subplot(414)\n",
    "ax4.axvspan(ymin=0,ymax=1.5,xmin=0.5,xmax=1,lw=3,color='red')\n",
    "ax4.set_xlim(-1,2)\n",
    "ax4.set_ylim(-1,2)\n",
    "fig.show()"
   ]
  },
  {
   "cell_type": "code",
   "execution_count": null,
   "id": "7ab1282d-9a72-4e6e-b69c-1c30efd14aa7",
   "metadata": {},
   "outputs": [],
   "source": [
    "%matplotlib inline\n",
    "fig = plt.figure()\n",
    "ax = fig.add_subplot(211)\n",
    "ax.bar(1,left =-1 ,height = 0.5,width = 0.2,bottom=0.4,color='green',edgecolor='red',lw=2,\n",
    "      tick_label = 'barhoz',xerr=0.2,yerr=0.3,ecolor='orange',capsize=8,align='center')"
   ]
  },
  {
   "cell_type": "code",
   "execution_count": null,
   "id": "d0e822a0-4d0e-46ff-abf7-7393fb9d5685",
   "metadata": {},
   "outputs": [],
   "source": []
  },
  {
   "cell_type": "code",
   "execution_count": null,
   "id": "2b8ddf21-6248-4e6b-addc-267cfd7e44ec",
   "metadata": {},
   "outputs": [],
   "source": []
  }
 ],
 "metadata": {
  "kernelspec": {
   "display_name": "Python 3",
   "language": "python",
   "name": "python3"
  },
  "language_info": {
   "codemirror_mode": {
    "name": "ipython",
    "version": 3
   },
   "file_extension": ".py",
   "mimetype": "text/x-python",
   "name": "python",
   "nbconvert_exporter": "python",
   "pygments_lexer": "ipython3",
   "version": "3.8.8"
  }
 },
 "nbformat": 4,
 "nbformat_minor": 5
}
